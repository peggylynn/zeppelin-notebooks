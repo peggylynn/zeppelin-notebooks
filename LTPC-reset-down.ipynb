{
 "cells": [
  {
   "cell_type": "code",
   "execution_count": 1,
   "metadata": {
    "collapsed": false
   },
   "outputs": [
    {
     "name": "stdout",
     "output_type": "stream",
     "text": [
      "Welcome to\n",
      "      ____              __\n",
      "     / __/__  ___ _____/ /__\n",
      "    _\\ \\/ _ \\/ _ `/ __/  '_/\n",
      "   /__ / .__/\\_,_/_/ /_/\\_\\   version 2.1.0\n",
      "      /_/\n",
      "\n",
      "Using Python version 2.7.11 (default, Jun 11 2016 11:33:47)\n",
      "SparkSession available as 'spark'.\n"
     ]
    }
   ],
   "source": [
    "run startSpark.py"
   ]
  },
  {
   "cell_type": "code",
   "execution_count": 2,
   "metadata": {
    "collapsed": false
   },
   "outputs": [
    {
     "name": "stdout",
     "output_type": "stream",
     "text": [
      "root\n",
      " |-- acct_code: string (nullable = true)\n",
      " |-- account_code: string (nullable = true)\n",
      " |-- serial_number: string (nullable = true)\n",
      " |-- reported_date: timestamp (nullable = true)\n",
      " |-- lifetime_page_count: long (nullable = true)\n",
      " |-- color_lifetime_page_count: long (nullable = true)\n",
      " |-- mono_lifetime_page_count: long (nullable = true)\n",
      " |-- page_count: long (nullable = true)\n",
      " |-- color_page_count: long (nullable = true)\n",
      " |-- mono_page_count: long (nullable = true)\n",
      " |-- time_dimension_surrogate_key: long (nullable = true)\n",
      " |-- customer_master_surrogate_key: string (nullable = true)\n",
      " |-- product_master_surrogate_key: long (nullable = true)\n",
      " |-- material_master_surrogate_key: string (nullable = true)\n",
      " |-- account_surrogate_key: string (nullable = true)\n",
      " |-- asset_surrogate_key: string (nullable = true)\n",
      " |-- agreement_surrogate_key: string (nullable = true)\n",
      " |-- create_date_time: timestamp (nullable = true)\n",
      " |-- create_user: string (nullable = true)\n",
      "\n"
     ]
    }
   ],
   "source": [
    "#load the rolling 6 months or 1 year from Redshift dvcstats.devie_page_count_all\n",
    "theSQL = \"(select SUBSTRING(account_code, 1,3) as acct_code,account_code,serial_number,reported_date,lifetime_page_count, color_lifetime_page_count,mono_lifetime_page_count,page_count,color_page_count,mono_page_count,time_dimension_surrogate_key, customer_master_surrogate_key,product_master_surrogate_key,material_master_surrogate_key,account_surrogate_key,asset_surrogate_key,agreement_surrogate_key,create_date_time,create_user from dvcstats.device_page_count_all where trunc(reported_date) >= current_date - INTERVAL '3 d') as myQuery\"\n",
    "\n",
    "\n",
    "databaseReader = (spark.read\n",
    "                 .format(\"jdbc\")\n",
    "                 .option(\"url\",\"jdbc:postgresql://duck.cff0iaonktcp.us-east-1.redshift.amazonaws.com:5439/idw?tcpKeepAlive=true&ssl=true&sslfactory=org.postgresql.ssl.NonValidatingFactory\")\n",
    "                 .option(\"dbtable\",theSQL)\n",
    "                 .option(\"user\",\"pbishop\")\n",
    "                  .option(\"password\",\"********$\")\n",
    "                  .option(\"driver\",\"org.postgresql.Driver\"))\n",
    "#databaseReader\n",
    "raw_df = databaseReader.load()\n",
    "raw_df .cache()\n",
    "raw_df .printSchema()"
   ]
  },
  {
   "cell_type": "code",
   "execution_count": 4,
   "metadata": {
    "collapsed": false
   },
   "outputs": [
    {
     "ename": "Py4JNetworkError",
     "evalue": "An error occurred while trying to connect to the Java server (127.0.0.1:62671)",
     "output_type": "error",
     "traceback": [
      "\u001b[1;31m---------------------------------------------------------------------------\u001b[0m",
      "\u001b[1;31mPy4JNetworkError\u001b[0m                          Traceback (most recent call last)",
      "\u001b[1;32m<ipython-input-4-0d73795f4ef6>\u001b[0m in \u001b[0;36m<module>\u001b[1;34m()\u001b[0m\n\u001b[1;32m----> 1\u001b[1;33m \u001b[0mraw_df\u001b[0m\u001b[1;33m.\u001b[0m\u001b[0mshow\u001b[0m\u001b[1;33m(\u001b[0m\u001b[1;33m)\u001b[0m\u001b[1;33m\u001b[0m\u001b[0m\n\u001b[0m",
      "\u001b[1;32mC:\\spark\\python\\pyspark\\sql\\dataframe.pyc\u001b[0m in \u001b[0;36mshow\u001b[1;34m(self, n, truncate)\u001b[0m\n\u001b[0;32m    316\u001b[0m         \"\"\"\n\u001b[0;32m    317\u001b[0m         \u001b[1;32mif\u001b[0m \u001b[0misinstance\u001b[0m\u001b[1;33m(\u001b[0m\u001b[0mtruncate\u001b[0m\u001b[1;33m,\u001b[0m \u001b[0mbool\u001b[0m\u001b[1;33m)\u001b[0m \u001b[1;32mand\u001b[0m \u001b[0mtruncate\u001b[0m\u001b[1;33m:\u001b[0m\u001b[1;33m\u001b[0m\u001b[0m\n\u001b[1;32m--> 318\u001b[1;33m             \u001b[1;32mprint\u001b[0m\u001b[1;33m(\u001b[0m\u001b[0mself\u001b[0m\u001b[1;33m.\u001b[0m\u001b[0m_jdf\u001b[0m\u001b[1;33m.\u001b[0m\u001b[0mshowString\u001b[0m\u001b[1;33m(\u001b[0m\u001b[0mn\u001b[0m\u001b[1;33m,\u001b[0m \u001b[1;36m20\u001b[0m\u001b[1;33m)\u001b[0m\u001b[1;33m)\u001b[0m\u001b[1;33m\u001b[0m\u001b[0m\n\u001b[0m\u001b[0;32m    319\u001b[0m         \u001b[1;32melse\u001b[0m\u001b[1;33m:\u001b[0m\u001b[1;33m\u001b[0m\u001b[0m\n\u001b[0;32m    320\u001b[0m             \u001b[1;32mprint\u001b[0m\u001b[1;33m(\u001b[0m\u001b[0mself\u001b[0m\u001b[1;33m.\u001b[0m\u001b[0m_jdf\u001b[0m\u001b[1;33m.\u001b[0m\u001b[0mshowString\u001b[0m\u001b[1;33m(\u001b[0m\u001b[0mn\u001b[0m\u001b[1;33m,\u001b[0m \u001b[0mint\u001b[0m\u001b[1;33m(\u001b[0m\u001b[0mtruncate\u001b[0m\u001b[1;33m)\u001b[0m\u001b[1;33m)\u001b[0m\u001b[1;33m)\u001b[0m\u001b[1;33m\u001b[0m\u001b[0m\n",
      "\u001b[1;32mC:\\Users\\bishopp\\AppData\\Local\\Enthought\\Canopy\\User\\lib\\site-packages\\py4j\\java_gateway.pyc\u001b[0m in \u001b[0;36m__call__\u001b[1;34m(self, *args)\u001b[0m\n\u001b[0;32m   1129\u001b[0m             \u001b[0mproto\u001b[0m\u001b[1;33m.\u001b[0m\u001b[0mEND_COMMAND_PART\u001b[0m\u001b[1;33m\u001b[0m\u001b[0m\n\u001b[0;32m   1130\u001b[0m \u001b[1;33m\u001b[0m\u001b[0m\n\u001b[1;32m-> 1131\u001b[1;33m         \u001b[0manswer\u001b[0m \u001b[1;33m=\u001b[0m \u001b[0mself\u001b[0m\u001b[1;33m.\u001b[0m\u001b[0mgateway_client\u001b[0m\u001b[1;33m.\u001b[0m\u001b[0msend_command\u001b[0m\u001b[1;33m(\u001b[0m\u001b[0mcommand\u001b[0m\u001b[1;33m)\u001b[0m\u001b[1;33m\u001b[0m\u001b[0m\n\u001b[0m\u001b[0;32m   1132\u001b[0m         return_value = get_return_value(\n\u001b[0;32m   1133\u001b[0m             answer, self.gateway_client, self.target_id, self.name)\n",
      "\u001b[1;32mC:\\Users\\bishopp\\AppData\\Local\\Enthought\\Canopy\\User\\lib\\site-packages\\py4j\\java_gateway.pyc\u001b[0m in \u001b[0;36msend_command\u001b[1;34m(self, command, retry, binary)\u001b[0m\n\u001b[0;32m    879\u001b[0m          \u001b[1;32mif\u001b[0m \u001b[1;33m`\u001b[0m\u001b[0mbinary\u001b[0m\u001b[1;33m`\u001b[0m \u001b[1;32mis\u001b[0m \u001b[1;33m`\u001b[0m\u001b[0mTrue\u001b[0m\u001b[1;33m`\u001b[0m\u001b[1;33m.\u001b[0m\u001b[1;33m\u001b[0m\u001b[0m\n\u001b[0;32m    880\u001b[0m         \"\"\"\n\u001b[1;32m--> 881\u001b[1;33m         \u001b[0mconnection\u001b[0m \u001b[1;33m=\u001b[0m \u001b[0mself\u001b[0m\u001b[1;33m.\u001b[0m\u001b[0m_get_connection\u001b[0m\u001b[1;33m(\u001b[0m\u001b[1;33m)\u001b[0m\u001b[1;33m\u001b[0m\u001b[0m\n\u001b[0m\u001b[0;32m    882\u001b[0m         \u001b[1;32mtry\u001b[0m\u001b[1;33m:\u001b[0m\u001b[1;33m\u001b[0m\u001b[0m\n\u001b[0;32m    883\u001b[0m             \u001b[0mresponse\u001b[0m \u001b[1;33m=\u001b[0m \u001b[0mconnection\u001b[0m\u001b[1;33m.\u001b[0m\u001b[0msend_command\u001b[0m\u001b[1;33m(\u001b[0m\u001b[0mcommand\u001b[0m\u001b[1;33m)\u001b[0m\u001b[1;33m\u001b[0m\u001b[0m\n",
      "\u001b[1;32mC:\\Users\\bishopp\\AppData\\Local\\Enthought\\Canopy\\User\\lib\\site-packages\\py4j\\java_gateway.pyc\u001b[0m in \u001b[0;36m_get_connection\u001b[1;34m(self)\u001b[0m\n\u001b[0;32m    827\u001b[0m             \u001b[0mconnection\u001b[0m \u001b[1;33m=\u001b[0m \u001b[0mself\u001b[0m\u001b[1;33m.\u001b[0m\u001b[0mdeque\u001b[0m\u001b[1;33m.\u001b[0m\u001b[0mpop\u001b[0m\u001b[1;33m(\u001b[0m\u001b[1;33m)\u001b[0m\u001b[1;33m\u001b[0m\u001b[0m\n\u001b[0;32m    828\u001b[0m         \u001b[1;32mexcept\u001b[0m \u001b[0mIndexError\u001b[0m\u001b[1;33m:\u001b[0m\u001b[1;33m\u001b[0m\u001b[0m\n\u001b[1;32m--> 829\u001b[1;33m             \u001b[0mconnection\u001b[0m \u001b[1;33m=\u001b[0m \u001b[0mself\u001b[0m\u001b[1;33m.\u001b[0m\u001b[0m_create_connection\u001b[0m\u001b[1;33m(\u001b[0m\u001b[1;33m)\u001b[0m\u001b[1;33m\u001b[0m\u001b[0m\n\u001b[0m\u001b[0;32m    830\u001b[0m         \u001b[1;32mreturn\u001b[0m \u001b[0mconnection\u001b[0m\u001b[1;33m\u001b[0m\u001b[0m\n\u001b[0;32m    831\u001b[0m \u001b[1;33m\u001b[0m\u001b[0m\n",
      "\u001b[1;32mC:\\Users\\bishopp\\AppData\\Local\\Enthought\\Canopy\\User\\lib\\site-packages\\py4j\\java_gateway.pyc\u001b[0m in \u001b[0;36m_create_connection\u001b[1;34m(self)\u001b[0m\n\u001b[0;32m    833\u001b[0m         connection = GatewayConnection(\n\u001b[0;32m    834\u001b[0m             self.gateway_parameters, self.gateway_property)\n\u001b[1;32m--> 835\u001b[1;33m         \u001b[0mconnection\u001b[0m\u001b[1;33m.\u001b[0m\u001b[0mstart\u001b[0m\u001b[1;33m(\u001b[0m\u001b[1;33m)\u001b[0m\u001b[1;33m\u001b[0m\u001b[0m\n\u001b[0m\u001b[0;32m    836\u001b[0m         \u001b[1;32mreturn\u001b[0m \u001b[0mconnection\u001b[0m\u001b[1;33m\u001b[0m\u001b[0m\n\u001b[0;32m    837\u001b[0m \u001b[1;33m\u001b[0m\u001b[0m\n",
      "\u001b[1;32mC:\\Users\\bishopp\\AppData\\Local\\Enthought\\Canopy\\User\\lib\\site-packages\\py4j\\java_gateway.pyc\u001b[0m in \u001b[0;36mstart\u001b[1;34m(self)\u001b[0m\n\u001b[0;32m    968\u001b[0m                 \u001b[1;34m\"server ({0}:{1})\"\u001b[0m\u001b[1;33m.\u001b[0m\u001b[0mformat\u001b[0m\u001b[1;33m(\u001b[0m\u001b[0mself\u001b[0m\u001b[1;33m.\u001b[0m\u001b[0maddress\u001b[0m\u001b[1;33m,\u001b[0m \u001b[0mself\u001b[0m\u001b[1;33m.\u001b[0m\u001b[0mport\u001b[0m\u001b[1;33m)\u001b[0m\u001b[1;33m\u001b[0m\u001b[0m\n\u001b[0;32m    969\u001b[0m             \u001b[0mlogger\u001b[0m\u001b[1;33m.\u001b[0m\u001b[0mexception\u001b[0m\u001b[1;33m(\u001b[0m\u001b[0mmsg\u001b[0m\u001b[1;33m)\u001b[0m\u001b[1;33m\u001b[0m\u001b[0m\n\u001b[1;32m--> 970\u001b[1;33m             \u001b[1;32mraise\u001b[0m \u001b[0mPy4JNetworkError\u001b[0m\u001b[1;33m(\u001b[0m\u001b[0mmsg\u001b[0m\u001b[1;33m,\u001b[0m \u001b[0me\u001b[0m\u001b[1;33m)\u001b[0m\u001b[1;33m\u001b[0m\u001b[0m\n\u001b[0m\u001b[0;32m    971\u001b[0m \u001b[1;33m\u001b[0m\u001b[0m\n\u001b[0;32m    972\u001b[0m     \u001b[1;32mdef\u001b[0m \u001b[0mclose\u001b[0m\u001b[1;33m(\u001b[0m\u001b[0mself\u001b[0m\u001b[1;33m,\u001b[0m \u001b[0mreset\u001b[0m\u001b[1;33m=\u001b[0m\u001b[0mFalse\u001b[0m\u001b[1;33m)\u001b[0m\u001b[1;33m:\u001b[0m\u001b[1;33m\u001b[0m\u001b[0m\n",
      "\u001b[1;31mPy4JNetworkError\u001b[0m: An error occurred while trying to connect to the Java server (127.0.0.1:62671)"
     ]
    }
   ],
   "source": [
    "raw_df.show()"
   ]
  },
  {
   "cell_type": "code",
   "execution_count": 3,
   "metadata": {
    "collapsed": false
   },
   "outputs": [
    {
     "name": "stdout",
     "output_type": "stream",
     "text": [
      "root\n",
      " |-- acct_code: string (nullable = true)\n",
      " |-- account_code: string (nullable = true)\n",
      " |-- serial_number: string (nullable = true)\n",
      " |-- neg_read_date: timestamp (nullable = true)\n",
      " |-- LTPC_Y: long (nullable = true)\n",
      " |-- color_lifetime_page_count: long (nullable = true)\n",
      " |-- mono_lifetime_page_count: long (nullable = true)\n",
      " |-- page_count: long (nullable = true)\n",
      " |-- color_page_count: long (nullable = true)\n",
      " |-- mono_page_count: long (nullable = true)\n",
      " |-- time_dimension_surrogate_key: long (nullable = true)\n",
      " |-- customer_master_surrogate_key: string (nullable = true)\n",
      " |-- product_master_surrogate_key: long (nullable = true)\n",
      " |-- material_master_surrogate_key: string (nullable = true)\n",
      " |-- account_surrogate_key: string (nullable = true)\n",
      " |-- asset_surrogate_key: string (nullable = true)\n",
      " |-- agreement_surrogate_key: string (nullable = true)\n",
      " |-- create_date_time: timestamp (nullable = true)\n",
      " |-- create_user: string (nullable = true)\n",
      "\n"
     ]
    }
   ],
   "source": [
    "#This gets the serial_numbers with negative page counts and aliases a couple columns\n",
    "\n",
    "affectedSN = raw_df.select(raw_df.acct_code,raw_df.account_code,raw_df.serial_number,raw_df.reported_date.alias(\"neg_read_date\"),raw_df.lifetime_page_count.alias(\"LTPC_Y\"),raw_df.color_lifetime_page_count,raw_df.mono_lifetime_page_count,raw_df.page_count,raw_df.color_page_count,raw_df.mono_page_count,raw_df.time_dimension_surrogate_key,raw_df. customer_master_surrogate_key,raw_df.product_master_surrogate_key,raw_df.material_master_surrogate_key,raw_df.account_surrogate_key,raw_df.asset_surrogate_key,raw_df.agreement_surrogate_key,raw_df.create_date_time,raw_df.create_user).filter(\"page_count < 0\")\n",
    "affectedSN.cache()\n",
    "affectedSN.printSchema()"
   ]
  },
  {
   "cell_type": "code",
   "execution_count": 3,
   "metadata": {
    "collapsed": false
   },
   "outputs": [
    {
     "name": "stdout",
     "output_type": "stream",
     "text": [
      "root\n",
      " |-- account_code: string (nullable = true)\n",
      " |-- account_surrogate_key: string (nullable = true)\n",
      " |-- agreement_surrogate_key: string (nullable = true)\n",
      " |-- asset_surrogate_key: string (nullable = true)\n",
      " |-- color_lifetime_page_count: long (nullable = true)\n",
      " |-- color_page_count: long (nullable = true)\n",
      " |-- create_date_time: string (nullable = true)\n",
      " |-- create_user: string (nullable = true)\n",
      " |-- curr_page_count: long (nullable = true)\n",
      " |-- customer_master_surrogate_key: string (nullable = true)\n",
      " |-- ltpc_x: long (nullable = true)\n",
      " |-- ltpc_x_date: string (nullable = true)\n",
      " |-- ltpc_y: long (nullable = true)\n",
      " |-- ltpc_z: long (nullable = true)\n",
      " |-- ltpc_z_date: string (nullable = true)\n",
      " |-- material_master_surrogate_key: string (nullable = true)\n",
      " |-- mono_lifetime_page_count: long (nullable = true)\n",
      " |-- mono_page_count: long (nullable = true)\n",
      " |-- neg_read_date: string (nullable = true)\n",
      " |-- page_count: long (nullable = true)\n",
      " |-- product_master_surrogate_key: string (nullable = true)\n",
      " |-- serial_number: string (nullable = true)\n",
      " |-- time_dimension_surrogate_key: string (nullable = true)\n",
      "\n"
     ]
    },
    {
     "data": {
      "text/plain": [
       "3995"
      ]
     },
     "execution_count": 3,
     "metadata": {},
     "output_type": "execute_result"
    }
   ],
   "source": [
    "patt1 = spark.read.json(\"./Output 2017-03-17-23-20-14-UTC\")\n",
    "patt1.cache()\n",
    "patt1.printSchema()\n",
    "patt1.count()"
   ]
  },
  {
   "cell_type": "code",
   "execution_count": 5,
   "metadata": {
    "collapsed": false
   },
   "outputs": [
    {
     "ename": "AttributeError",
     "evalue": "'DataFrame' object has no attribute 'map'",
     "output_type": "error",
     "traceback": [
      "\u001b[1;31m---------------------------------------------------------------------------\u001b[0m",
      "\u001b[1;31mAttributeError\u001b[0m                            Traceback (most recent call last)",
      "\u001b[1;32m<ipython-input-5-e5635e817b3e>\u001b[0m in \u001b[0;36m<module>\u001b[1;34m()\u001b[0m\n\u001b[0;32m      1\u001b[0m \u001b[0mupsr\u001b[0m \u001b[1;33m=\u001b[0m \u001b[0mspark\u001b[0m\u001b[1;33m.\u001b[0m\u001b[0mread\u001b[0m\u001b[1;33m.\u001b[0m\u001b[0mtext\u001b[0m\u001b[1;33m(\u001b[0m\u001b[1;34m\"./UPSRECEIVE S3 Files\"\u001b[0m\u001b[1;33m)\u001b[0m\u001b[1;33m\u001b[0m\u001b[0m\n\u001b[1;32m----> 2\u001b[1;33m \u001b[0mups\u001b[0m \u001b[1;33m=\u001b[0m \u001b[0mupsr\u001b[0m\u001b[1;33m.\u001b[0m\u001b[0mmap\u001b[0m\u001b[1;33m(\u001b[0m\u001b[1;32mlambda\u001b[0m \u001b[0ml\u001b[0m\u001b[1;33m:\u001b[0m \u001b[0ml\u001b[0m\u001b[1;33m.\u001b[0m\u001b[0msplit\u001b[0m\u001b[1;33m(\u001b[0m\u001b[1;34m\"\\t\"\u001b[0m\u001b[1;33m)\u001b[0m\u001b[1;33m)\u001b[0m\u001b[1;33m\u001b[0m\u001b[0m\n\u001b[0m\u001b[0;32m      3\u001b[0m \u001b[0mp7\u001b[0m \u001b[1;33m=\u001b[0m \u001b[0mups\u001b[0m\u001b[1;33m.\u001b[0m\u001b[0mmap\u001b[0m\u001b[1;33m(\u001b[0m\u001b[1;32mlambda\u001b[0m \u001b[0mp\u001b[0m\u001b[1;33m:\u001b[0m \u001b[0mRow\u001b[0m\u001b[1;33m(\u001b[0m\u001b[0mserial_number\u001b[0m\u001b[1;33m=\u001b[0m\u001b[0mp\u001b[0m\u001b[1;33m[\u001b[0m\u001b[1;36m0\u001b[0m\u001b[1;33m]\u001b[0m\u001b[1;33m.\u001b[0m\u001b[0mreplace\u001b[0m\u001b[1;33m(\u001b[0m\u001b[1;34m\"\\\"\"\u001b[0m\u001b[1;33m,\u001b[0m \u001b[1;34m\"\"\u001b[0m\u001b[1;33m)\u001b[0m\u001b[1;33m,\u001b[0m\u001b[0mdel_date\u001b[0m\u001b[1;33m=\u001b[0m\u001b[0mp\u001b[0m\u001b[1;33m[\u001b[0m\u001b[1;36m1\u001b[0m\u001b[1;33m]\u001b[0m\u001b[1;33m.\u001b[0m\u001b[0mreplace\u001b[0m\u001b[1;33m(\u001b[0m\u001b[1;34m\"\\\"\"\u001b[0m\u001b[1;33m,\u001b[0m \u001b[1;34m\"\"\u001b[0m\u001b[1;33m)\u001b[0m\u001b[1;33m,\u001b[0m\u001b[0mlifetime_page_count\u001b[0m\u001b[1;33m=\u001b[0m\u001b[0mp\u001b[0m\u001b[1;33m[\u001b[0m\u001b[1;36m2\u001b[0m\u001b[1;33m]\u001b[0m\u001b[1;33m.\u001b[0m\u001b[0mreplace\u001b[0m\u001b[1;33m(\u001b[0m\u001b[1;34m\"\\\"\"\u001b[0m\u001b[1;33m,\u001b[0m \u001b[1;34m\"\"\u001b[0m\u001b[1;33m)\u001b[0m\u001b[1;33m,\u001b[0m\u001b[0mprinter_name\u001b[0m\u001b[1;33m=\u001b[0m\u001b[0mp\u001b[0m\u001b[1;33m[\u001b[0m\u001b[1;36m3\u001b[0m\u001b[1;33m]\u001b[0m\u001b[1;33m.\u001b[0m\u001b[0mreplace\u001b[0m\u001b[1;33m(\u001b[0m\u001b[1;34m\"\\\"\"\u001b[0m\u001b[1;33m,\u001b[0m \u001b[1;34m\"\"\u001b[0m\u001b[1;33m)\u001b[0m\u001b[1;33m,\u001b[0m\u001b[0mip_address\u001b[0m\u001b[1;33m=\u001b[0m\u001b[0mp\u001b[0m\u001b[1;33m[\u001b[0m\u001b[1;36m4\u001b[0m\u001b[1;33m]\u001b[0m\u001b[1;33m.\u001b[0m\u001b[0mreplace\u001b[0m\u001b[1;33m(\u001b[0m\u001b[1;34m\"\\\"\"\u001b[0m\u001b[1;33m,\u001b[0m \u001b[1;34m\"\"\u001b[0m\u001b[1;33m)\u001b[0m\u001b[1;33m,\u001b[0m\u001b[0maccount_code\u001b[0m\u001b[1;33m=\u001b[0m\u001b[0mp\u001b[0m\u001b[1;33m[\u001b[0m\u001b[1;36m5\u001b[0m\u001b[1;33m]\u001b[0m\u001b[1;33m.\u001b[0m\u001b[0mreplace\u001b[0m\u001b[1;33m(\u001b[0m\u001b[1;34m\"\\\"\"\u001b[0m\u001b[1;33m,\u001b[0m \u001b[1;34m\"\"\u001b[0m\u001b[1;33m)\u001b[0m\u001b[1;33m,\u001b[0m\u001b[0mcolor_lpc\u001b[0m\u001b[1;33m=\u001b[0m\u001b[0mp\u001b[0m\u001b[1;33m[\u001b[0m\u001b[1;36m6\u001b[0m\u001b[1;33m]\u001b[0m\u001b[1;33m.\u001b[0m\u001b[0mreplace\u001b[0m\u001b[1;33m(\u001b[0m\u001b[1;34m\"\\\"\"\u001b[0m\u001b[1;33m,\u001b[0m \u001b[1;34m\"\"\u001b[0m\u001b[1;33m)\u001b[0m\u001b[1;33m,\u001b[0m\u001b[0mmono_lpc\u001b[0m\u001b[1;33m=\u001b[0m\u001b[0mp\u001b[0m\u001b[1;33m[\u001b[0m\u001b[1;36m7\u001b[0m\u001b[1;33m]\u001b[0m\u001b[1;33m.\u001b[0m\u001b[0mreplace\u001b[0m\u001b[1;33m(\u001b[0m\u001b[1;34m\"\\\"\"\u001b[0m\u001b[1;33m,\u001b[0m \u001b[1;34m\"\"\u001b[0m\u001b[1;33m)\u001b[0m\u001b[1;33m,\u001b[0m\u001b[0mfax_lpc\u001b[0m\u001b[1;33m=\u001b[0m\u001b[0mp\u001b[0m\u001b[1;33m[\u001b[0m\u001b[1;36m8\u001b[0m\u001b[1;33m]\u001b[0m\u001b[1;33m.\u001b[0m\u001b[0mreplace\u001b[0m\u001b[1;33m(\u001b[0m\u001b[1;34m\"\\\"\"\u001b[0m\u001b[1;33m,\u001b[0m \u001b[1;34m\"\"\u001b[0m\u001b[1;33m)\u001b[0m\u001b[1;33m,\u001b[0m\u001b[0mscan_lpc\u001b[0m\u001b[1;33m=\u001b[0m\u001b[0mp\u001b[0m\u001b[1;33m[\u001b[0m\u001b[1;36m9\u001b[0m\u001b[1;33m]\u001b[0m\u001b[1;33m.\u001b[0m\u001b[0mreplace\u001b[0m\u001b[1;33m(\u001b[0m\u001b[1;34m\"\\\"\"\u001b[0m\u001b[1;33m,\u001b[0m \u001b[1;34m\"\"\u001b[0m\u001b[1;33m)\u001b[0m\u001b[1;33m,\u001b[0m\u001b[0mcolor_copy_lpc\u001b[0m\u001b[1;33m=\u001b[0m\u001b[0mp\u001b[0m\u001b[1;33m[\u001b[0m\u001b[1;36m10\u001b[0m\u001b[1;33m]\u001b[0m\u001b[1;33m.\u001b[0m\u001b[0mreplace\u001b[0m\u001b[1;33m(\u001b[0m\u001b[1;34m\"\\\"\"\u001b[0m\u001b[1;33m,\u001b[0m \u001b[1;34m\"\"\u001b[0m\u001b[1;33m)\u001b[0m\u001b[1;33m,\u001b[0m\u001b[0mmono_copy_lpc\u001b[0m\u001b[1;33m=\u001b[0m\u001b[0mp\u001b[0m\u001b[1;33m[\u001b[0m\u001b[1;36m11\u001b[0m\u001b[1;33m]\u001b[0m\u001b[1;33m.\u001b[0m\u001b[0mreplace\u001b[0m\u001b[1;33m(\u001b[0m\u001b[1;34m\"\\\"\"\u001b[0m\u001b[1;33m,\u001b[0m \u001b[1;34m\"\"\u001b[0m\u001b[1;33m)\u001b[0m\u001b[1;33m,\u001b[0m\u001b[0mtotal_copy_lpc\u001b[0m\u001b[1;33m=\u001b[0m\u001b[0mp\u001b[0m\u001b[1;33m[\u001b[0m\u001b[1;36m12\u001b[0m\u001b[1;33m]\u001b[0m\u001b[1;33m.\u001b[0m\u001b[0mreplace\u001b[0m\u001b[1;33m(\u001b[0m\u001b[1;34m\"\\\"\"\u001b[0m\u001b[1;33m,\u001b[0m \u001b[1;34m\"\"\u001b[0m\u001b[1;33m)\u001b[0m\u001b[1;33m,\u001b[0m\u001b[0msuspect_state\u001b[0m\u001b[1;33m=\u001b[0m\u001b[0mp\u001b[0m\u001b[1;33m[\u001b[0m\u001b[1;36m13\u001b[0m\u001b[1;33m]\u001b[0m\u001b[1;33m.\u001b[0m\u001b[0mreplace\u001b[0m\u001b[1;33m(\u001b[0m\u001b[1;34m\"\\\"\"\u001b[0m\u001b[1;33m,\u001b[0m \u001b[1;34m\"\"\u001b[0m\u001b[1;33m)\u001b[0m\u001b[1;33m,\u001b[0m\u001b[0mdata_source\u001b[0m\u001b[1;33m=\u001b[0m\u001b[0mp\u001b[0m\u001b[1;33m[\u001b[0m\u001b[1;36m14\u001b[0m\u001b[1;33m]\u001b[0m\u001b[1;33m.\u001b[0m\u001b[0mreplace\u001b[0m\u001b[1;33m(\u001b[0m\u001b[1;34m\"\\\"\"\u001b[0m\u001b[1;33m,\u001b[0m \u001b[1;34m\"\"\u001b[0m\u001b[1;33m)\u001b[0m\u001b[1;33m)\u001b[0m\u001b[1;33m)\u001b[0m\u001b[1;33m\u001b[0m\u001b[0m\n\u001b[0;32m      4\u001b[0m \u001b[0mschemaP7\u001b[0m \u001b[1;33m=\u001b[0m \u001b[0mspark\u001b[0m\u001b[1;33m.\u001b[0m\u001b[0mcreateDataFrame\u001b[0m\u001b[1;33m(\u001b[0m\u001b[0mp7\u001b[0m\u001b[1;33m)\u001b[0m\u001b[1;33m\u001b[0m\u001b[0m\n\u001b[0;32m      5\u001b[0m \u001b[0mschemaP7\u001b[0m\u001b[1;33m.\u001b[0m\u001b[0mcreateOrReplaceTempView\u001b[0m\u001b[1;33m(\u001b[0m\u001b[1;34m\"ups\"\u001b[0m\u001b[1;33m)\u001b[0m\u001b[1;33m\u001b[0m\u001b[0m\n",
      "\u001b[1;32mC:\\spark\\python\\pyspark\\sql\\dataframe.pyc\u001b[0m in \u001b[0;36m__getattr__\u001b[1;34m(self, name)\u001b[0m\n\u001b[0;32m    962\u001b[0m         \u001b[1;32mif\u001b[0m \u001b[0mname\u001b[0m \u001b[1;32mnot\u001b[0m \u001b[1;32min\u001b[0m \u001b[0mself\u001b[0m\u001b[1;33m.\u001b[0m\u001b[0mcolumns\u001b[0m\u001b[1;33m:\u001b[0m\u001b[1;33m\u001b[0m\u001b[0m\n\u001b[0;32m    963\u001b[0m             raise AttributeError(\n\u001b[1;32m--> 964\u001b[1;33m                 \"'%s' object has no attribute '%s'\" % (self.__class__.__name__, name))\n\u001b[0m\u001b[0;32m    965\u001b[0m         \u001b[0mjc\u001b[0m \u001b[1;33m=\u001b[0m \u001b[0mself\u001b[0m\u001b[1;33m.\u001b[0m\u001b[0m_jdf\u001b[0m\u001b[1;33m.\u001b[0m\u001b[0mapply\u001b[0m\u001b[1;33m(\u001b[0m\u001b[0mname\u001b[0m\u001b[1;33m)\u001b[0m\u001b[1;33m\u001b[0m\u001b[0m\n\u001b[0;32m    966\u001b[0m         \u001b[1;32mreturn\u001b[0m \u001b[0mColumn\u001b[0m\u001b[1;33m(\u001b[0m\u001b[0mjc\u001b[0m\u001b[1;33m)\u001b[0m\u001b[1;33m\u001b[0m\u001b[0m\n",
      "\u001b[1;31mAttributeError\u001b[0m: 'DataFrame' object has no attribute 'map'"
     ]
    }
   ],
   "source": [
    "upsr = spark.read.text(\"./UPSRECEIVE S3 Files\")\n",
    "ups = upsr.map(lambda l: l.split(\"\\t\"))\n",
    "p7 = ups.map(lambda p: Row(serial_number=p[0].replace(\"\\\"\", \"\"),del_date=p[1].replace(\"\\\"\", \"\"),lifetime_page_count=p[2].replace(\"\\\"\", \"\"),printer_name=p[3].replace(\"\\\"\", \"\"),ip_address=p[4].replace(\"\\\"\", \"\"),account_code=p[5].replace(\"\\\"\", \"\"),color_lpc=p[6].replace(\"\\\"\", \"\"),mono_lpc=p[7].replace(\"\\\"\", \"\"),fax_lpc=p[8].replace(\"\\\"\", \"\"),scan_lpc=p[9].replace(\"\\\"\", \"\"),color_copy_lpc=p[10].replace(\"\\\"\", \"\"),mono_copy_lpc=p[11].replace(\"\\\"\", \"\"),total_copy_lpc=p[12].replace(\"\\\"\", \"\"),suspect_state=p[13].replace(\"\\\"\", \"\"),data_source=p[14].replace(\"\\\"\", \"\")))\n",
    "schemaP7 = spark.createDataFrame(p7)\n",
    "schemaP7.createOrReplaceTempView(\"ups\")"
   ]
  },
  {
   "cell_type": "code",
   "execution_count": 11,
   "metadata": {
    "collapsed": false
   },
   "outputs": [
    {
     "name": "stdout",
     "output_type": "stream",
     "text": [
      "+-------------+-------------------+---------------+-------------+---------------+---------+---------+--------+-------+--------+--------------+-------------+--------------+-------------+-----------+\n",
      "|SERIAL_NUMBER|           DEL_DATE|LIFE_PAGE_COUNT| PRINTER_NAME|     IP_ADDRESS|ACCT_CODE|COLOR_LPC|MONO_LPC|FAX_LPC|SCAN_LPC|COLOR_COPY_LPC|MONO_COPY_LPC|TOTAL_COPY_LPC|SUSPECT_STATE|DATA_SOURCE|\n",
      "+-------------+-------------------+---------------+-------------+---------------+---------+---------+--------+-------+--------+--------------+-------------+--------------+-------------+-----------+\n",
      "|74635C6601ZM7|2017-03-16 20:19:38|          79117|Lexmark MX711| 180.170.159.13|    SAN01|        0|       0|      0|       0|             0|            0|             0|            1|          6|\n",
      "|74635C6601ZMY|2017-03-16 20:19:38|           9905|Lexmark MX711|  10.155.213.54|    SAN01|        0|       0|      0|       0|             0|            0|             0|            1|          6|\n",
      "|74635C6601ZLH|2017-03-16 20:19:38|         120956|Lexmark MX711|180.125.138.237|    SAN01|        0|       0|      0|       0|             0|            0|             0|            1|          6|\n",
      "|74635C6601ZK0|2017-03-16 20:19:38|          90389|Lexmark MX711|180.170.166.140|    SAN01|        0|       0|      0|       0|             0|            0|             0|            1|          6|\n",
      "|74635C6601ZKG|2017-03-16 20:19:38|          96745|Lexmark MX711| 180.170.159.12|    SAN01|        0|       0|      0|       0|             0|            0|             0|            1|          6|\n",
      "|74635C6601Y2K|2017-03-16 20:19:38|          20952|Lexmark MX711|  10.154.40.245|    SAN01|        0|       0|      0|       0|             0|            0|             0|            1|          6|\n",
      "|74635C6600T6N|2017-03-16 20:19:44|          25760|Lexmark MX711|  180.237.8.145|    SAN01|        0|       0|      0|       0|             0|            0|             0|            1|          6|\n",
      "|74635C6600T5G|2017-03-16 20:19:44|          59779|Lexmark MX711|  180.237.74.37|    SAN01|        0|       0|      0|       0|             0|            0|             0|            1|          6|\n",
      "|74635C6600T40|2017-03-16 20:19:44|          56068|Lexmark MX711| 180.238.133.70|    SAN01|        0|       0|      0|       0|             0|            0|             0|            1|          6|\n",
      "|74635C6600T27|2017-03-16 20:19:44|         193458|Lexmark MX711| 180.237.33.208|    SAN01|        0|       0|      0|       0|             0|            0|             0|            1|          6|\n",
      "|74635C6600T2H|2017-03-16 20:19:44|          26484|Lexmark MX711| 180.237.64.197|    SAN01|        0|       0|      0|       0|             0|            0|             0|            1|          6|\n",
      "|74635C6600T1Z|2017-03-16 20:19:44|          20626|Lexmark MX711| 180.237.73.131|    SAN01|        0|       0|      0|       0|             0|            0|             0|            1|          6|\n",
      "|74635C6600T1H|2017-03-16 20:19:44|           3628|Lexmark MX711| 180.237.74.101|    SAN01|        0|       0|      0|       0|             0|            0|             0|            1|          6|\n",
      "|74635C6600T07|2017-03-16 20:19:44|          15900|Lexmark MX711|180.237.155.229|    SAN01|        0|       0|      0|       0|             0|            0|             0|            1|          6|\n",
      "|74635C6600T0X|2017-03-16 20:19:44|         206985|Lexmark MX711| 180.238.121.68|    SAN01|        0|       0|      0|       0|             0|            0|             0|            1|          6|\n",
      "|74635C6600TB7|2017-03-16 20:19:44|          54983|Lexmark MX711| 180.238.38.131|    SAN01|        0|       0|      0|       0|             0|            0|             0|            1|          6|\n",
      "|74635C6600TBP|2017-03-16 20:19:44|          43985|Lexmark MX711| 180.238.121.69|    SAN01|        0|       0|      0|       0|             0|            0|             0|            1|          6|\n",
      "|74635C6600RYG|2017-03-16 20:19:44|          20591|Lexmark MX711| 180.237.76.165|    SAN01|        0|       0|      0|       0|             0|            0|             0|            1|          6|\n",
      "|74635C6600RX7|2017-03-16 20:19:44|          22652|Lexmark MX711| 180.237.64.165|    SAN01|        0|       0|      0|       0|             0|            0|             0|            1|          6|\n",
      "|74635C6600RX6|2017-03-16 20:19:44|          21465|Lexmark MX711| 180.237.88.101|    SAN01|        0|       0|      0|       0|             0|            0|             0|            1|          6|\n",
      "+-------------+-------------------+---------------+-------------+---------------+---------+---------+--------+-------+--------+--------------+-------------+--------------+-------------+-----------+\n",
      "only showing top 20 rows\n",
      "\n"
     ]
    }
   ],
   "source": [
    "input = \"./UPSRECEIVE S3 Files\"\n",
    "upsr = spark.read.csv(input, sep='\\t', header='true')\n",
    "upsr.show()"
   ]
  },
  {
   "cell_type": "code",
   "execution_count": 13,
   "metadata": {
    "collapsed": false
   },
   "outputs": [],
   "source": [
    "upsr.createOrReplaceTempView(\"upsr\")"
   ]
  },
  {
   "cell_type": "code",
   "execution_count": 15,
   "metadata": {
    "collapsed": false
   },
   "outputs": [
    {
     "name": "stdout",
     "output_type": "stream",
     "text": [
      "+---------+-------------+-------------------+---------------+\n",
      "|acct_code|serial_number|           del_date|life_page_count|\n",
      "+---------+-------------+-------------------+---------------+\n",
      "|    SAN01|74635C6601ZM7|2017-03-16 20:19:38|          79117|\n",
      "|    SAN01|74635C6601ZMY|2017-03-16 20:19:38|           9905|\n",
      "|    SAN01|74635C6601ZLH|2017-03-16 20:19:38|         120956|\n",
      "|    SAN01|74635C6601ZK0|2017-03-16 20:19:38|          90389|\n",
      "|    SAN01|74635C6601ZKG|2017-03-16 20:19:38|          96745|\n",
      "|    SAN01|74635C6601Y2K|2017-03-16 20:19:38|          20952|\n",
      "|    SAN01|74635C6600T6N|2017-03-16 20:19:44|          25760|\n",
      "|    SAN01|74635C6600T5G|2017-03-16 20:19:44|          59779|\n",
      "|    SAN01|74635C6600T40|2017-03-16 20:19:44|          56068|\n",
      "|    SAN01|74635C6600T27|2017-03-16 20:19:44|         193458|\n",
      "|    SAN01|74635C6600T2H|2017-03-16 20:19:44|          26484|\n",
      "|    SAN01|74635C6600T1Z|2017-03-16 20:19:44|          20626|\n",
      "|    SAN01|74635C6600T1H|2017-03-16 20:19:44|           3628|\n",
      "|    SAN01|74635C6600T07|2017-03-16 20:19:44|          15900|\n",
      "|    SAN01|74635C6600T0X|2017-03-16 20:19:44|         206985|\n",
      "|    SAN01|74635C6600TB7|2017-03-16 20:19:44|          54983|\n",
      "|    SAN01|74635C6600TBP|2017-03-16 20:19:44|          43985|\n",
      "|    SAN01|74635C6600RYG|2017-03-16 20:19:44|          20591|\n",
      "|    SAN01|74635C6600RX7|2017-03-16 20:19:44|          22652|\n",
      "|    SAN01|74635C6600RX6|2017-03-16 20:19:44|          21465|\n",
      "+---------+-------------+-------------------+---------------+\n",
      "only showing top 20 rows\n",
      "\n"
     ]
    }
   ],
   "source": [
    "spark.sql(\"select acct_code, serial_number, del_date, life_page_count from upsr\").show()\n"
   ]
  },
  {
   "cell_type": "code",
   "execution_count": 16,
   "metadata": {
    "collapsed": false
   },
   "outputs": [
    {
     "name": "stdout",
     "output_type": "stream",
     "text": [
      "+-------------------+\n",
      "|      max(del_date)|\n",
      "+-------------------+\n",
      "|2017-03-16 23:59:53|\n",
      "+-------------------+\n",
      "\n"
     ]
    }
   ],
   "source": [
    "spark.sql(\"select max(del_date) from upsr\").show()"
   ]
  },
  {
   "cell_type": "code",
   "execution_count": 19,
   "metadata": {
    "collapsed": false
   },
   "outputs": [
    {
     "name": "stdout",
     "output_type": "stream",
     "text": [
      "root\n",
      " |-- account_code: string (nullable = true)\n",
      " |-- account_surrogate_key: string (nullable = true)\n",
      " |-- agreement_surrogate_key: string (nullable = true)\n",
      " |-- asset_surrogate_key: string (nullable = true)\n",
      " |-- color_lifetime_page_count: long (nullable = true)\n",
      " |-- color_page_count: long (nullable = true)\n",
      " |-- create_date_time: string (nullable = true)\n",
      " |-- create_user: string (nullable = true)\n",
      " |-- curr_page_count: long (nullable = true)\n",
      " |-- customer_master_surrogate_key: string (nullable = true)\n",
      " |-- ltpc_x: long (nullable = true)\n",
      " |-- ltpc_x_date: string (nullable = true)\n",
      " |-- ltpc_y: long (nullable = true)\n",
      " |-- ltpc_z: long (nullable = true)\n",
      " |-- ltpc_z_date: string (nullable = true)\n",
      " |-- material_master_surrogate_key: string (nullable = true)\n",
      " |-- mono_lifetime_page_count: long (nullable = true)\n",
      " |-- mono_page_count: long (nullable = true)\n",
      " |-- neg_read_date: string (nullable = true)\n",
      " |-- page_count: long (nullable = true)\n",
      " |-- product_master_surrogate_key: string (nullable = true)\n",
      " |-- serial_number: string (nullable = true)\n",
      " |-- time_dimension_surrogate_key: string (nullable = true)\n",
      "\n"
     ]
    },
    {
     "data": {
      "text/plain": [
       "4044"
      ]
     },
     "execution_count": 19,
     "metadata": {},
     "output_type": "execute_result"
    }
   ],
   "source": [
    "patt2 = spark.read.json(\"./Output 2017-03-20-20-49-08-UTC/\")\n",
    "patt2.cache()\n",
    "patt2.printSchema()\n",
    "patt2.count()"
   ]
  },
  {
   "cell_type": "code",
   "execution_count": 20,
   "metadata": {
    "collapsed": true
   },
   "outputs": [],
   "source": [
    "patt2.createOrReplaceTempView(\"patt2\")"
   ]
  },
  {
   "cell_type": "code",
   "execution_count": 21,
   "metadata": {
    "collapsed": false
   },
   "outputs": [
    {
     "name": "stdout",
     "output_type": "stream",
     "text": [
      "+------------+-------------+-------------------+------+----------+---------------+\n",
      "|account_code|serial_number|      neg_read_date|ltpc_y|page_count|curr_page_count|\n",
      "+------------+-------------+-------------------+------+----------+---------------+\n",
      "|       LOT01|      0000000|2016-04-01 17:40:24| 47602|    -71330|             30|\n",
      "|       AHS01|   0000000000|2017-02-07 23:07:29| 55610|        -2|             25|\n",
      "|       KPT02|      0252657|2017-02-15 04:14:52|   267|   -851033|            558|\n",
      "|       BSF02|      0435299|2016-05-24 20:54:35|662248|    -96737|            230|\n",
      "|       UBU14|      0471198|2016-10-19 23:40:11| 57739|   -809112|             27|\n",
      "|       BSF01|      0471572|2016-02-29 13:21:52|     2|    -48229|             47|\n",
      "|       BNS01|      0611882|2017-03-01 20:52:04|    11|   -448658|              3|\n",
      "|       DEL01|      0622972|2016-03-25 13:41:47|137034|   -105805|            130|\n",
      "|       KPT02|      0631491|2016-06-09 20:37:56|    84|   -351314|              0|\n",
      "|       HFO02|      0650375|2016-04-12 12:04:24| 13699|   -762895|             86|\n",
      "|       HFO02|      0650737|2016-04-27 20:47:41|224476|   -167429|             73|\n",
      "|       LDC01|            1|2017-01-21 06:04:45|  5951|   -312489|              1|\n",
      "|       NBD02|            1|2017-01-21 06:04:45|  5951|   -312489|        -312489|\n",
      "|       VAL01|          100|2016-12-13 22:27:09| 13305|    -30460|         -30460|\n",
      "|       HDT08|     13C62I00|2017-02-09 14:35:51| 20749|    -55206|            116|\n",
      "|       NBD02|       151433|2017-01-11 09:16:45| 93956|   -195269|        -195269|\n",
      "|       PAC01|           19|2016-08-23 15:49:23| 53935|   -632757|          15056|\n",
      "|       VAL01|           19|2016-08-23 15:49:23| 53935|   -632757|          32316|\n",
      "|       CCA01|           19|2016-08-23 15:49:23| 53935|   -632757|         128258|\n",
      "|       PAC01|           19|2016-08-23 15:49:23| 53935|    -74323|          15056|\n",
      "+------------+-------------+-------------------+------+----------+---------------+\n",
      "only showing top 20 rows\n",
      "\n"
     ]
    }
   ],
   "source": [
    "spark.sql(\"select account_code, serial_number, neg_read_date, ltpc_y, page_count, curr_page_count from patt2\").show()"
   ]
  },
  {
   "cell_type": "code",
   "execution_count": 22,
   "metadata": {
    "collapsed": false
   },
   "outputs": [
    {
     "name": "stdout",
     "output_type": "stream",
     "text": [
      "root\n",
      " |-- account_code: string (nullable = true)\n",
      " |-- account_surrogate_key: string (nullable = true)\n",
      " |-- agreement_surrogate_key: string (nullable = true)\n",
      " |-- asset_surrogate_key: string (nullable = true)\n",
      " |-- color_lifetime_page_count: long (nullable = true)\n",
      " |-- color_page_count: long (nullable = true)\n",
      " |-- create_date_time: string (nullable = true)\n",
      " |-- create_user: string (nullable = true)\n",
      " |-- curr_page_count: long (nullable = true)\n",
      " |-- customer_master_surrogate_key: string (nullable = true)\n",
      " |-- ltpc_x: long (nullable = true)\n",
      " |-- ltpc_x_date: string (nullable = true)\n",
      " |-- ltpc_y: long (nullable = true)\n",
      " |-- ltpc_z: long (nullable = true)\n",
      " |-- ltpc_z_date: string (nullable = true)\n",
      " |-- material_master_surrogate_key: string (nullable = true)\n",
      " |-- mono_lifetime_page_count: long (nullable = true)\n",
      " |-- mono_page_count: long (nullable = true)\n",
      " |-- neg_page_count: long (nullable = true)\n",
      " |-- neg_read_date: string (nullable = true)\n",
      " |-- product_master_surrogate_key: string (nullable = true)\n",
      " |-- serial_number: string (nullable = true)\n",
      " |-- time_dimension_surrogate_key: string (nullable = true)\n",
      "\n"
     ]
    },
    {
     "data": {
      "text/plain": [
       "3405"
      ]
     },
     "execution_count": 22,
     "metadata": {},
     "output_type": "execute_result"
    }
   ],
   "source": [
    "patt3 = spark.read.json(\"./Output 2017-03-21-14-03-41-UTC/\")\n",
    "patt3.cache()\n",
    "patt3.printSchema()\n",
    "patt3.count()"
   ]
  },
  {
   "cell_type": "code",
   "execution_count": 23,
   "metadata": {
    "collapsed": true
   },
   "outputs": [],
   "source": [
    "patt3.createOrReplaceTempView(\"pattn3\")"
   ]
  },
  {
   "cell_type": "code",
   "execution_count": 27,
   "metadata": {
    "collapsed": false
   },
   "outputs": [
    {
     "name": "stdout",
     "output_type": "stream",
     "text": [
      "+------------+-------------+-------------------+------+--------------+---------------+-------------------+\n",
      "|account_code|serial_number|      neg_read_date|ltpc_y|neg_page_count|curr_page_count|   create_date_time|\n",
      "+------------+-------------+-------------------+------+--------------+---------------+-------------------+\n",
      "|       LOT01|      0000000|2016-04-01 17:40:24| 47602|        -71330|             30|2017-03-21 15:20:52|\n",
      "|       BSF02|      0435299|2016-05-24 20:54:35|662248|        -96737|            230|2017-03-21 15:20:52|\n",
      "|       BSF01|      0471572|2016-02-29 13:21:52|     2|        -48229|             47|2017-03-21 15:20:52|\n",
      "|       BNS01|      0611882|2017-03-01 20:52:04|    11|       -448520|              0|2017-03-21 15:20:52|\n",
      "|       DEL01|      0622972|2016-03-25 13:41:47|137034|       -105805|              0|2017-03-21 15:20:52|\n",
      "|       KPT02|      0631491|2016-06-09 20:37:56|    84|       -351314|              0|2017-03-21 15:20:52|\n",
      "|       HFO02|      0650375|2016-04-12 12:04:24| 13699|       -762895|             86|2017-03-21 15:20:52|\n",
      "|       HFO02|      0650737|2016-04-27 20:47:41|224476|       -167429|             73|2017-03-21 15:20:52|\n",
      "|       NBD02|            1|2017-01-21 06:04:45|  5951|       -312489|        -312489|2017-03-21 15:20:52|\n",
      "|       LDC01|            1|2017-01-21 06:04:45|  5951|       -312489|              1|2017-03-21 15:20:52|\n",
      "|       HDT08|     13C62I00|2017-02-09 14:35:51| 20749|        -53767|            116|2017-03-21 15:20:52|\n",
      "|       NBD02|       151433|2017-01-11 09:16:45| 93956|       -195269|        -195269|2017-03-21 15:20:52|\n",
      "|       PAC01|           19|2016-07-16 10:14:59| 53935|        -74323|          15056|2017-03-21 15:20:52|\n",
      "|       VAL01|           19|2016-07-16 10:14:59| 53935|        -74323|          32316|2017-03-21 15:20:52|\n",
      "|       PAC01|           19|2016-07-16 10:14:59| 53935|       -632757|          15056|2017-03-21 15:20:52|\n",
      "|       CCA01|           19|2016-07-16 10:14:59| 53935|       -632757|         128258|2017-03-21 15:20:52|\n",
      "|       VAL01|           19|2016-07-16 10:14:59| 53935|       -632757|          32316|2017-03-21 15:20:52|\n",
      "|       NBD02|       200000|2017-01-31 04:02:15| 38232|        -56431|         -56431|2017-03-21 15:20:52|\n",
      "|       WWL01|      2366638|2016-10-31 22:32:04| 20206|           -29|              0|2017-03-21 15:20:52|\n",
      "|       WMS01|      2400074|2016-11-01 06:33:33|  1563|       -638175|              0|2017-03-21 15:20:52|\n",
      "+------------+-------------+-------------------+------+--------------+---------------+-------------------+\n",
      "only showing top 20 rows\n",
      "\n"
     ]
    }
   ],
   "source": [
    "spark.sql(\"select account_code, serial_number, neg_read_date, ltpc_y, neg_page_count, curr_page_count,create_date_time from pattn3\").show()"
   ]
  },
  {
   "cell_type": "code",
   "execution_count": 28,
   "metadata": {
    "collapsed": false
   },
   "outputs": [
    {
     "name": "stdout",
     "output_type": "stream",
     "text": [
      "root\n",
      " |-- account_code: string (nullable = true)\n",
      " |-- account_surrogate_key: string (nullable = true)\n",
      " |-- agreement_surrogate_key: string (nullable = true)\n",
      " |-- asset_surrogate_key: string (nullable = true)\n",
      " |-- color_lifetime_page_count: long (nullable = true)\n",
      " |-- color_page_count: long (nullable = true)\n",
      " |-- create_date_time: string (nullable = true)\n",
      " |-- create_user: string (nullable = true)\n",
      " |-- curr_page_count: long (nullable = true)\n",
      " |-- customer_master_surrogate_key: string (nullable = true)\n",
      " |-- ltpc_x: long (nullable = true)\n",
      " |-- ltpc_x_date: string (nullable = true)\n",
      " |-- ltpc_y: long (nullable = true)\n",
      " |-- ltpc_z: long (nullable = true)\n",
      " |-- ltpc_z_date: string (nullable = true)\n",
      " |-- material_master_surrogate_key: string (nullable = true)\n",
      " |-- mono_lifetime_page_count: long (nullable = true)\n",
      " |-- mono_page_count: long (nullable = true)\n",
      " |-- neg_read_date: string (nullable = true)\n",
      " |-- page_count: long (nullable = true)\n",
      " |-- product_master_surrogate_key: string (nullable = true)\n",
      " |-- serial_number: string (nullable = true)\n",
      " |-- time_dimension_surrogate_key: string (nullable = true)\n",
      "\n"
     ]
    },
    {
     "data": {
      "text/plain": [
       "4051"
      ]
     },
     "execution_count": 28,
     "metadata": {},
     "output_type": "execute_result"
    }
   ],
   "source": [
    "patt4 = spark.read.json(\"./Output 2017-03-21-15-21-24-UTC/\")\n",
    "patt4.cache()\n",
    "patt4.printSchema()\n",
    "patt4.count()"
   ]
  },
  {
   "cell_type": "code",
   "execution_count": 29,
   "metadata": {
    "collapsed": true
   },
   "outputs": [],
   "source": [
    "patt4.createOrReplaceTempView(\"pattn4\")"
   ]
  },
  {
   "cell_type": "code",
   "execution_count": 31,
   "metadata": {
    "collapsed": false
   },
   "outputs": [
    {
     "name": "stdout",
     "output_type": "stream",
     "text": [
      "+------------+-------------+-------------------+------+----------+---------------+-------------------+\n",
      "|account_code|serial_number|      neg_read_date|ltpc_y|page_count|curr_page_count|   create_date_time|\n",
      "+------------+-------------+-------------------+------+----------+---------------+-------------------+\n",
      "|       LOT01|      0000000|2016-04-01 17:40:24| 47602|    -71330|             30|2017-03-21 16:20:46|\n",
      "|       AHS01|   0000000000|2017-02-07 23:07:29| 55610|        -2|              0|2017-03-21 16:20:46|\n",
      "|       KPT02|      0252657|2017-02-15 04:14:52|   267|   -851033|            756|2017-03-21 16:20:46|\n",
      "|       BSF02|      0435299|2016-05-24 20:54:35|662248|    -96737|            230|2017-03-21 16:20:46|\n",
      "|       UBU14|      0471198|2016-10-19 23:40:11| 57739|   -809112|              0|2017-03-21 16:20:46|\n",
      "|       BSF01|      0471572|2016-02-29 13:21:52|     2|    -48229|             47|2017-03-21 16:20:46|\n",
      "|       BNS01|      0611882|2017-03-01 20:52:04|    11|   -448658|              0|2017-03-21 16:20:46|\n",
      "|       DEL01|      0622972|2016-03-25 13:41:47|137034|   -105805|            130|2017-03-21 16:20:46|\n",
      "|       KPT02|      0631491|2016-06-09 20:37:56|    84|   -351314|              0|2017-03-21 16:20:46|\n",
      "|       HFO02|      0650375|2016-04-12 12:04:24| 13699|   -762895|             86|2017-03-21 16:20:46|\n",
      "|       HFO02|      0650737|2016-04-27 20:47:41|224476|   -167429|             73|2017-03-21 16:20:46|\n",
      "|       NBD02|            1|2017-01-21 06:04:45|  5951|   -312489|        -312489|2017-03-21 16:20:46|\n",
      "|       LDC01|            1|2017-01-21 06:04:45|  5951|   -312489|              1|2017-03-21 16:20:46|\n",
      "|       VAL01|          100|2016-12-13 22:27:09| 13305|    -30460|         -30460|2017-03-21 16:20:46|\n",
      "|       HDT08|     13C62I00|2017-02-09 14:35:51| 20749|    -55206|             11|2017-03-21 16:20:46|\n",
      "|       NBD02|       151433|2017-01-11 09:16:45| 93956|   -195269|        -195269|2017-03-21 16:20:46|\n",
      "|       VAL01|           19|2016-08-23 15:49:23| 53935|    -74323|          32316|2017-03-21 16:20:46|\n",
      "|       PAC01|           19|2016-08-23 15:49:23| 53935|    -74323|          15056|2017-03-21 16:20:46|\n",
      "|       CCA01|           19|2016-08-23 15:49:23| 53935|   -632757|         128258|2017-03-21 16:20:46|\n",
      "|       VAL01|           19|2016-08-23 15:49:23| 53935|   -632757|          32316|2017-03-21 16:20:46|\n",
      "+------------+-------------+-------------------+------+----------+---------------+-------------------+\n",
      "only showing top 20 rows\n",
      "\n"
     ]
    }
   ],
   "source": [
    "spark.sql(\"select account_code, serial_number, neg_read_date, ltpc_y, page_count, curr_page_count,create_date_time from pattn4\").show()"
   ]
  },
  {
   "cell_type": "code",
   "execution_count": 42,
   "metadata": {
    "collapsed": false
   },
   "outputs": [
    {
     "name": "stdout",
     "output_type": "stream",
     "text": [
      "+-------------+-------------------+------+-------------+--------------+-----+-----+----+---+---+----+----+----+----+----+\n",
      "|          _c0|                _c1|   _c2|          _c3|           _c4|  _c5|  _c6| _c7|_c8|_c9|_c10|_c11|_c12|_c13|_c14|\n",
      "+-------------+-------------------+------+-------------+--------------+-----+-----+----+---+---+----+----+----+----+----+\n",
      "|7526159441C8P|2015-01-01 03:27:08| 16977| Lexmark X748|    10.220.5.9|ADB01|14197|2780|  0|  0|   0|   0|   0|   0|   6|\n",
      "|74633699055WN|2015-01-01 14:45:19|333997|Lexmark MX810|   10.21.5.183|AHS01|    0|   0|  0|  0|   0|   0|   0|   1|   6|\n",
      "|7421013000575|2015-01-01 14:45:19| 21854|Lexmark MX911|   10.2.200.32|AHS01|    0|   0|  0|  0|   0|   0|   0|   1|   6|\n",
      "|406347990M7MK|2015-01-01 16:32:19| 18047|Lexmark MS811|172.20.159.117|AAR01|    0|   0|  0|  0|   0|   0|   0|   0|   6|\n",
      "|7526159441C8P|2015-01-02 03:48:19| 17034| Lexmark X748|    10.220.5.9|ADB01|14251|2783|  0|  0|   0|   0|   0|   0|   6|\n",
      "|74633699055WN|2015-01-02 14:55:29|335282|Lexmark MX810|   10.21.5.183|AHS01|    0|   0|  0|  0|   0|   0|   0|   1|   6|\n",
      "|7421013000575|2015-01-02 14:55:29| 21854|Lexmark MX911|   10.2.200.32|AHS01|    0|   0|  0|  0|   0|   0|   0|   1|   6|\n",
      "|406347990M7MK|2015-01-02 16:42:53| 18190|Lexmark MS811|172.20.159.117|AAR01|    0|   0|  0|  0|   0|   0|   0|   1|   6|\n",
      "|7526159441C8P|2015-01-03 04:09:44| 17128| Lexmark X748|    10.220.5.9|ADB01|14331|2797|  0|  0|   0|   0|   0|   0|   6|\n",
      "|74633699055WN|2015-01-03 15:05:45|336839|Lexmark MX810|   10.21.5.183|AHS01|    0|   0|  0|  0|   0|   0|   0|   1|   6|\n",
      "|7421013000575|2015-01-03 15:05:45| 21854|Lexmark MX911|   10.2.200.32|AHS01|    0|   0|  0|  0|   0|   0|   0|   1|   6|\n",
      "|406347990M7MK|2015-01-03 16:53:15| 18529|Lexmark MS811|172.20.159.117|AAR01|    0|   0|  0|  0|   0|   0|   0|   1|   6|\n",
      "|7526159441C8P|2015-01-04 04:28:42| 17172| Lexmark X748|    10.220.5.9|ADB01|14375|2797|  0|  0|   0|   0|   0|   0|   6|\n",
      "|406347990M7MK|2015-01-04 17:04:01| 18610|Lexmark MS811|172.20.159.117|AAR01|    0|   0|  0|  0|   0|   0|   0|   1|   6|\n",
      "|74633699055WN|2015-01-04 15:15:58|338334|Lexmark MX810|   10.21.5.183|AHS01|    0|   0|  0|  0|   0|   0|   0|   1|   6|\n",
      "|7421013000575|2015-01-04 15:15:58| 21854|Lexmark MX911|   10.2.200.32|AHS01|    0|   0|  0|  0|   0|   0|   0|   1|   6|\n",
      "|7526159441C8P|2015-01-05 04:49:48| 17231| Lexmark X748|    10.220.5.9|ADB01|14433|2798|  0|  0|   0|   0|   0|   0|   6|\n",
      "|7421013000575|2015-01-05 15:26:07| 21854|Lexmark MX911|   10.2.200.32|AHS01|    0|   0|  0|  0|   0|   0|   0|   1|   6|\n",
      "|406347990M7MK|2015-01-05 17:13:54| 18776|Lexmark MS811|172.20.159.117|AAR01|    0|   0|  0|  0|   0|   0|   0|   1|   6|\n",
      "|74633699055WN|2015-01-05 15:26:07|339169|Lexmark MX810|   10.21.5.183|AHS01|    0|   0|  0|  0|   0|   0|   0|   1|   6|\n",
      "+-------------+-------------------+------+-------------+--------------+-----+-----+----+---+---+----+----+----+----+----+\n",
      "only showing top 20 rows\n",
      "\n"
     ]
    }
   ],
   "source": [
    "input = \"./test-ups-input\"\n",
    "#upsr = spark.read.csv(input, sep='\\t', header='true')\n",
    "ups = spark.read.csv(input, sep='\\t')\n",
    "ups.show()"
   ]
  },
  {
   "cell_type": "code",
   "execution_count": 45,
   "metadata": {
    "collapsed": false
   },
   "outputs": [
    {
     "data": {
      "text/plain": [
       "1938"
      ]
     },
     "execution_count": 45,
     "metadata": {},
     "output_type": "execute_result"
    }
   ],
   "source": [
    "ups.count()"
   ]
  },
  {
   "cell_type": "code",
   "execution_count": 43,
   "metadata": {
    "collapsed": true
   },
   "outputs": [],
   "source": [
    "ups.createOrReplaceTempView(\"ups\")"
   ]
  },
  {
   "cell_type": "code",
   "execution_count": 44,
   "metadata": {
    "collapsed": false
   },
   "outputs": [
    {
     "name": "stdout",
     "output_type": "stream",
     "text": [
      "+-------------+-------------------+----+-------------+-------------+-----+---+---+---+---+----+----+----+----+----+\n",
      "|          _c0|                _c1| _c2|          _c3|          _c4|  _c5|_c6|_c7|_c8|_c9|_c10|_c11|_c12|_c13|_c14|\n",
      "+-------------+-------------------+----+-------------+-------------+-----+---+---+---+---+----+----+----+----+----+\n",
      "|406347990M7MK|2014-10-17 15:24:49| 242|Lexmark MS811|172.28.68.189|AAR01|  0|  0|  0|  0|   0|   0|   0|   0|   6|\n",
      "|406347990M7MK|2014-10-18 15:36:15| 560|Lexmark MS811|172.28.68.189|AAR01|  0|  0|  0|  0|   0|   0|   0|   1|   6|\n",
      "|406347990M7MK|2014-10-19 15:46:29| 688|Lexmark MS811|172.28.68.189|AAR01|  0|  0|  0|  0|   0|   0|   0|   1|   6|\n",
      "|406347990M7MK|2014-10-20 15:57:35| 710|Lexmark MS811|172.28.68.189|AAR01|  0|  0|  0|  0|   0|   0|   0|   1|   6|\n",
      "|406347990M7MK|2014-10-21 16:08:58| 918|Lexmark MS811|172.28.68.189|AAR01|  0|  0|  0|  0|   0|   0|   0|   1|   6|\n",
      "|406347990M7MK|2014-10-22 16:20:20|1117|Lexmark MS811|172.28.68.189|AAR01|  0|  0|  0|  0|   0|   0|   0|   1|   6|\n",
      "|406347990M7MK|2014-10-23 16:31:38|1360|Lexmark MS811|172.28.68.189|AAR01|  0|  0|  0|  0|   0|   0|   0|   1|   6|\n",
      "|406347990M7MK|2014-10-24 16:43:10|1606|Lexmark MS811|172.28.68.189|AAR01|  0|  0|  0|  0|   0|   0|   0|   1|   6|\n",
      "|406347990M7MK|2014-10-27 17:18:07|2030|Lexmark MS811|172.28.68.189|AAR01|  0|  0|  0|  0|   0|   0|   0|   1|   6|\n",
      "|406347990M7MK|2014-10-28 17:29:16|2403|Lexmark MS811|172.28.68.189|AAR01|  0|  0|  0|  0|   0|   0|   0|   1|   6|\n",
      "|406347990M7MK|2014-10-29 17:39:51|2659|Lexmark MS811|172.28.68.189|AAR01|  0|  0|  0|  0|   0|   0|   0|   1|   6|\n",
      "|406347990M7MK|2014-10-30 17:51:38|2968|Lexmark MS811|172.28.68.189|AAR01|  0|  0|  0|  0|   0|   0|   0|   1|   6|\n",
      "|406347990M7MK|2014-10-31 18:02:18|3222|Lexmark MS811|172.28.68.189|AAR01|  0|  0|  0|  0|   0|   0|   0|   1|   6|\n",
      "|406347990M7MK|2014-11-01 18:13:27|3563|Lexmark MS811|172.28.68.189|AAR01|  0|  0|  0|  0|   0|   0|   0|   1|   6|\n",
      "|406347990M7MK|2014-11-02 06:00:59|3622|Lexmark MS811|172.28.68.189|AAR01|  0|  0|  0|  0|   0|   0|   0|   1|   6|\n",
      "|406347990M7MK|2014-11-03 06:12:38|3622|Lexmark MS811|172.28.68.189|AAR01|  0|  0|  0|  0|   0|   0|   0|   1|   6|\n",
      "|406347990M7MK|2014-11-04 06:23:43|4036|Lexmark MS811|172.28.68.189|AAR01|  0|  0|  0|  0|   0|   0|   0|   1|   6|\n",
      "|406347990M7MK|2014-11-05 06:34:54|4240|Lexmark MS811|172.28.68.189|AAR01|  0|  0|  0|  0|   0|   0|   0|   1|   6|\n",
      "|406347990M7MK|2014-11-06 06:45:53|4402|Lexmark MS811|172.28.68.189|AAR01|  0|  0|  0|  0|   0|   0|   0|   1|   6|\n",
      "|406347990M7MK|2014-11-07 06:54:00|4800|Lexmark MS811|172.28.68.189|AAR01|  0|  0|  0|  0|   0|   0|   0|   1|   6|\n",
      "+-------------+-------------------+----+-------------+-------------+-----+---+---+---+---+----+----+----+----+----+\n",
      "only showing top 20 rows\n",
      "\n"
     ]
    }
   ],
   "source": [
    "spark.sql(\"select * from ups order by _c0, _c1\").show()"
   ]
  },
  {
   "cell_type": "code",
   "execution_count": 46,
   "metadata": {
    "collapsed": false
   },
   "outputs": [
    {
     "name": "stdout",
     "output_type": "stream",
     "text": [
      "+-------------+-------------------+-------------------+--------+\n",
      "|          _c0|             min_dt|             max_dt|count(1)|\n",
      "+-------------+-------------------+-------------------+--------+\n",
      "|406347990M7MK|2014-10-17 15:24:49|2015-12-31 20:52:00|     392|\n",
      "|7526159441C8P|2014-06-19 21:00:52|2015-12-31 22:32:46|     550|\n",
      "|74633699055WN|2014-04-03 09:29:51|2015-12-31 01:40:54|     591|\n",
      "|7421013000575|2014-11-07 05:55:59|2015-12-31 01:40:53|     405|\n",
      "+-------------+-------------------+-------------------+--------+\n",
      "\n"
     ]
    }
   ],
   "source": [
    "spark.sql(\"select _c0, min(_c1) min_dt, max(_c1) max_dt, count(*) from ups group by _c0\").show()"
   ]
  },
  {
   "cell_type": "code",
   "execution_count": 48,
   "metadata": {
    "collapsed": false
   },
   "outputs": [
    {
     "name": "stdout",
     "output_type": "stream",
     "text": [
      "+-------------+-------------------+------+-------------+-----------+-----+---+---+---+---+----+----+----+----+----+\n",
      "|          _c0|                _c1|   _c2|          _c3|        _c4|  _c5|_c6|_c7|_c8|_c9|_c10|_c11|_c12|_c13|_c14|\n",
      "+-------------+-------------------+------+-------------+-----------+-----+---+---+---+---+----+----+----+----+----+\n",
      "|7421013000575|2016-11-24 11:43:51|469538|Lexmark MX911|10.2.200.32|AHS01|  0|  0|  0|  0|   0|   0|   0|   1|   6|\n",
      "|7421013000575|2016-11-25 12:05:10|473175|Lexmark MX911|10.2.200.32|AHS01|  0|  0|  0|  0|   0|   0|   0|   1|   6|\n",
      "|7421013000575|2016-11-26 12:26:27|473520|Lexmark MX911|10.2.200.32|AHS01|  0|  0|  0|  0|   0|   0|   0|   1|   6|\n",
      "|7421013000575|2016-11-27 12:48:34|473520|Lexmark MX911|10.2.200.32|AHS01|  0|  0|  0|  0|   0|   0|   0|   1|   6|\n",
      "|7421013000575|2016-11-28 13:07:59|477832|Lexmark MX911|10.2.200.32|AHS01|  0|  0|  0|  0|   0|   0|   0|   1|   6|\n",
      "|7421013000575|2016-11-29 13:29:15|481072|Lexmark MX911|10.2.200.32|AHS01|  0|  0|  0|  0|   0|   0|   0|   1|   6|\n",
      "|7421013000575|2016-11-30 13:50:47|485420|Lexmark MX911|10.2.200.32|AHS01|  0|  0|  0|  0|   0|   0|   0|   1|   6|\n",
      "|7421013000575|2016-12-01 14:12:04|489228|Lexmark MX911|10.2.200.32|AHS01|  0|  0|  0|  0|   0|   0|   0|   1|   6|\n",
      "|7421013000575|2016-12-02 14:33:34|492445|Lexmark MX911|10.2.200.32|AHS01|  0|  0|  0|  0|   0|   0|   0|   1|   6|\n",
      "|7421013000575|2016-12-03 14:55:04|492632|Lexmark MX911|10.2.200.32|AHS01|  0|  0|  0|  0|   0|   0|   0|   1|   6|\n",
      "|7421013000575|2016-12-04 15:17:20|492632|Lexmark MX911|10.2.200.32|AHS01|  0|  0|  0|  0|   0|   0|   0|   1|   6|\n",
      "|7421013000575|2016-12-05 15:38:26|497357|Lexmark MX911|10.2.200.32|AHS01|  0|  0|  0|  0|   0|   0|   0|   1|   6|\n",
      "|7421013000575|2016-12-06 15:59:40|500716|Lexmark MX911|10.2.200.32|AHS01|  0|  0|  0|  0|   0|   0|   0|   1|   6|\n",
      "|7421013000575|2016-12-07 16:20:58|504666|Lexmark MX911|10.2.200.32|AHS01|  0|  0|  0|  0|   0|   0|   0|   1|   6|\n",
      "|7421013000575|2016-12-08 16:42:24|508651|Lexmark MX911|10.2.200.32|AHS01|  0|  0|  0|  0|   0|   0|   0|   1|   6|\n",
      "|7421013000575|2016-12-09 17:03:41|508804|Lexmark MX911|10.2.200.32|AHS01|  0|  0|  0|  0|   0|   0|   0|   1|   6|\n",
      "|7421013000575|2016-12-10 17:23:59|509295|Lexmark MX911|10.2.200.32|AHS01|  0|  0|  0|  0|   0|   0|   0|   1|   6|\n",
      "|7421013000575|2016-12-11 17:45:20|509295|Lexmark MX911|10.2.200.32|AHS01|  0|  0|  0|  0|   0|   0|   0|   1|   6|\n",
      "|7421013000575|2016-12-12 18:06:34|516084|Lexmark MX911|10.2.200.32|AHS01|  0|  0|  0|  0|   0|   0|   0|   1|   6|\n",
      "|7421013000575|2016-12-13 18:27:54|520412|Lexmark MX911|10.2.200.32|AHS01|  0|  0|  0|  0|   0|   0|   0|   1|   6|\n",
      "+-------------+-------------------+------+-------------+-----------+-----+---+---+---+---+----+----+----+----+----+\n",
      "only showing top 20 rows\n",
      "\n"
     ]
    }
   ],
   "source": [
    "input = \"./test-ups-input-2\"\n",
    "#upsr = spark.read.csv(input, sep='\\t', header='true')\n",
    "ups1 = spark.read.csv(input, sep='\\t')\n",
    "ups1.show()"
   ]
  },
  {
   "cell_type": "code",
   "execution_count": 49,
   "metadata": {
    "collapsed": true
   },
   "outputs": [],
   "source": [
    "ups1.createOrReplaceTempView(\"ups1\")"
   ]
  },
  {
   "cell_type": "code",
   "execution_count": 50,
   "metadata": {
    "collapsed": false
   },
   "outputs": [
    {
     "name": "stdout",
     "output_type": "stream",
     "text": [
      "+-------------+-------------------+-------------------+--------+\n",
      "|          _c0|             min_dt|             max_dt|count(1)|\n",
      "+-------------+-------------------+-------------------+--------+\n",
      "|406347990M7MK|2014-10-17 15:24:49|2017-03-20 23:21:38|     811|\n",
      "|7526159441C8P|2014-06-19 21:00:52|2017-03-21 00:30:32|     977|\n",
      "|74633699055WN|2014-04-03 09:29:51|2017-03-21 09:20:53|    1019|\n",
      "|7421013000575|2014-11-07 05:55:59|2017-03-21 09:20:53|     772|\n",
      "+-------------+-------------------+-------------------+--------+\n",
      "\n"
     ]
    }
   ],
   "source": [
    "spark.sql(\"select _c0, min(_c1) min_dt, max(_c1) max_dt, count(*) from ups1 group by _c0\").show()"
   ]
  },
  {
   "cell_type": "code",
   "execution_count": null,
   "metadata": {
    "collapsed": true
   },
   "outputs": [],
   "source": []
  }
 ],
 "metadata": {
  "kernelspec": {
   "display_name": "Python 2",
   "language": "python",
   "name": "python2"
  },
  "language_info": {
   "codemirror_mode": {
    "name": "ipython",
    "version": 2
   },
   "file_extension": ".py",
   "mimetype": "text/x-python",
   "name": "python",
   "nbconvert_exporter": "python",
   "pygments_lexer": "ipython2",
   "version": "2.7.11"
  }
 },
 "nbformat": 4,
 "nbformat_minor": 0
}
